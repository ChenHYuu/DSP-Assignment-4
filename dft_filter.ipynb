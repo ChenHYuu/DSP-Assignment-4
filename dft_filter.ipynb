{
 "cells": [
  {
   "cell_type": "markdown",
   "metadata": {},
   "source": [
    "# DSP Assignment-4"
   ]
  },
  {
   "cell_type": "markdown",
   "metadata": {},
   "source": [
    "## clean所有檔案(如果不想重跑可以跳過)"
   ]
  },
  {
   "cell_type": "code",
   "execution_count": 4,
   "metadata": {},
   "outputs": [
    {
     "name": "stdout",
     "output_type": "stream",
     "text": [
      "rm -f dft_filter_frame_based_with_fft_time_domain.exe \\\n",
      "      dft_filter_frame_based_with_dft_time_domain.exe \\\n",
      "      dft_filter_dft_based.exe \\\n",
      "      dft_filter_fft_based.exe \\\n",
      "      dft_filter_no_define.exe\n",
      "Cleaned all build files\n"
     ]
    }
   ],
   "source": [
    "!make clean"
   ]
  },
  {
   "cell_type": "markdown",
   "metadata": {},
   "source": [
    "## make all\n",
    "用Jupyter跑會有點卡，建議用終端機\n",
    "下面是可以單跑某一項"
   ]
  },
  {
   "cell_type": "code",
   "execution_count": null,
   "metadata": {},
   "outputs": [],
   "source": [
    "# !make all\n",
    "# !make frame_based_with_dft_time_domain\n",
    "# !make frame_based_with_fft_time_domain\n",
    "# !make dft_based\n",
    "# !make fft_based\n",
    "# !make no_define"
   ]
  },
  {
   "attachments": {
    "image-2.png": {
     "image/png": "[encoded data removed]"
    },
    "image-3.png": {
     "image/png": "[encoded data removed]"
    },
    "image-4.png": {
     "image/png": "[encoded data removed]"
    },
    "image-5.png": {
     "image/png": "[encoded data removed]"
    },
    "image.png": {
     "image/png": "[encoded data removed]"
    }
   },
   "cell_type": "markdown",
   "metadata": {},
   "source": [
    "## 1. 添加 FFT\n",
    "```c=\n",
    "void FFT(float x[N], fftwf_complex X[N]) {\n",
    "    fftwf_plan p = fftwf_plan_dft_r2c_1d(N, x, X, FFTW_ESTIMATE);\n",
    "    fftwf_execute(p);\n",
    "    fftwf_destroy_plan(p);\n",
    "}\n",
    "\n",
    "void IFFT(fftwf_complex X[N], float x[N]) {\n",
    "    fftwf_plan p = fftwf_plan_dft_c2r_1d(N, X, x, FFTW_ESTIMATE); // 一維實數DFT\n",
    "    fftwf_execute(p);\n",
    "    fftwf_destroy_plan(p);\n",
    "    for (int i = 0; i < N; i++) {\n",
    "        x[i] /= N; // Normalize\n",
    "    }\n",
    "}\n",
    "\n",
    "void conv_by_FFT(float x[N], float h[N], float y[N]) {\n",
    "    fftwf_complex X[N], H[N], Y[N];\n",
    "    float temp_x[N], temp_h[N];\n",
    "\n",
    "    // Zero padding\n",
    "    memset(temp_x, 0, sizeof(float) * N);\n",
    "    memset(temp_h, 0, sizeof(float) * N);\n",
    "    memcpy(temp_x, x, sizeof(float) * L);\n",
    "    memcpy(temp_h, h, sizeof(float) * P);\n",
    "\n",
    "    // Compute FFT of x and h\n",
    "    FFT(temp_x, X);\n",
    "    FFT(temp_h, H);\n",
    "\n",
    "    // Perform element-wise multiplication in frequency domain\n",
    "    for (int k = 0; k < N; k++) {\n",
    "        Y[k] = X[k] * H[k];\n",
    "    }\n",
    "\n",
    "    // Compute IFFT of Y\n",
    "    IFFT(Y, y);\n",
    "}\n",
    "```\n",
    "`fft3.h`中的 function 筆記：\n",
    "1. `fftwf_complex`：是一個表示複數數據的結構體。\n",
    "    ```\n",
    "    fftw_complex a\n",
    "    a.re = (實部)\n",
    "    a.im = (虛部)\n",
    "    ```\n",
    "2. `fftwf_plan_dft_r2c_1d`：將時域的一維實數數據轉換為頻域的複數數據。\n",
    "    ```\n",
    "    fftw_plan fftw_plan_dft_c2r_1d(int n, fftw_complex *in, double *out, unsigned flags);\n",
    "    ```\n",
    "3. `fftwf_execute`：執行 `fftwf_plan p`\n",
    "4. `fftwf_destroy_plan`：destroy and free `fftwf_plan p`\n",
    "\n",
    "## 2. 使用 clock_t 計算產生每一個 sample 要花多少 msec?\n",
    "1. `FRAME_BASED` & `USE_FFT` & `FRAME_BASED_WITH_TIME_DOMAIN`\n",
    "    * 音檔名稱：out_frame_based_freq_domain_filtering_with_FFT.wav\n",
    "    * 每一個 sample 要花多少 msec?\n",
    "\n",
    "    ![image.png](attachment:image.png)\n",
    "\n",
    "    總時長約為 5.751724000000000 sec\n",
    "    per sample 時長約為 9.070892298802466e-07 msec\n",
    "\n",
    "2. `FRAME_BASED` & `USE_DFT` & `FRAME_BASED_WITH_TIME_DOMAIN`\n",
    "    * 音檔名稱：out_frame_based_freq_domain_filtering_with_DFT.wav\n",
    "    * 每一個 sample 要花多少 msec?\n",
    "\n",
    "    ![image-2.png](attachment:image-2.png)\n",
    "\n",
    "    總時長約為 5.873101000000000 sec\n",
    "    per sample 時長約為 9.262312765874903e-07 msec\n",
    "\n",
    "3. `FRAME_BASED` & `USE_FFT`\n",
    "    * 音檔名稱：out_frame_based_freq_domain_filtering_with_FFT.wav\n",
    "    * 每一個 sample 要花多少 msec?\n",
    "\n",
    "    ![image-3.png](attachment:image-3.png)\n",
    "\n",
    "    總時長約為 0.5724160000000000 sec\n",
    "    per sample 時長約為 9.027421841018992e-08 msec\n",
    "\n",
    "4. `FRAME_BASED` & `USE_DFT`\n",
    "    * 音檔名稱：out_frame_based_freq_domain_filtering_with_DFT.wav\n",
    "    * 每一個 sample 要花多少 msec?\n",
    "\n",
    "    ![image-4.png](attachment:image-4.png)\n",
    "\n",
    "    總時長約為 89.95597400000000 sec\n",
    "    per sample 時長約為 1.418671952596951e-05 msec\n",
    "\n",
    "5. 沒有`FRAME_BASED`\n",
    "    * 音檔名稱：out_sample_based_time_domain_filtering.wav\n",
    "    * 每一個 sample 要花多少 msec?\n",
    "\n",
    "    ![image-5.png](attachment:image-5.png)\n",
    "\n",
    "    總時長約為 4.743900000000000 sec\n",
    "    per sample 時長約為 7.481479635721223e-07 msec\n",
    "\n",
    "### 結論\n",
    "1. FFT 比 DFT 快\n",
    "    當不啟用 `FRAME_BASED_WITH_TIME_DOMAIN` 時，FFT 比 DFT 快 150 倍以上，因為 FFT 的計算更高效（適合處理大樣本數）\n",
    "2. 使用 `FRAME_BASED_WITH_TIME_DOMAIN` 拉近 FFT 和 DFT 的差距\n",
    "    啟用 `FRAME_BASED_WITH_TIME_DOMAIN` 後，FFT 和 DFT 的效率差不多，因為 frame 分割減少了樣本數，FFT 的優勢變小\n",
    "\n",
    "## 解決 precision 問題\n",
    "解決方法：先都使用 float ，到最後存檔再轉成 short\n",
    "改的地方：\n",
    "```c=\n",
    "typedef struct _wav {\n",
    "\tint fs;\n",
    "\tchar header[44];\n",
    "\tsize_t length;\n",
    "\tfloat *LChannel; // 改成float\n",
    "\tfloat *RChannel; // 改成float\n",
    "} wav;\n",
    "```\n",
    "```c=\n",
    "p_wav->LChannel = (float *) calloc(p_wav->length, sizeof(float));\n",
    "p_wav->RChannel = (float *) calloc(p_wav->length, sizeof(float));\n",
    "for(i=0;i<p_wav->length;i++) {\n",
    "\t\tfread(p_wav->LChannel+i, sizeof(float), 1, fp);\n",
    "\t\tfread(p_wav->RChannel+i, sizeof(float), 1, fp);\n",
    "\t}\n",
    "```\n",
    "存檔的時候改成short\n",
    "```c=\n",
    "for (size_t i = 0; i < p_wav->length; i++) {\n",
    "        short left = (short)roundf(p_wav->LChannel[i]);\n",
    "        short right = (short)roundf(p_wav->RChannel[i]);\n",
    "        fwrite(&left, sizeof(short), 1, fp);\n",
    "        fwrite(&right, sizeof(short), 1, fp);\n",
    "    }\n",
    "```\n"
   ]
  }
 ],
 "metadata": {
  "kernelspec": {
   "display_name": "base",
   "language": "python",
   "name": "python3"
  },
  "language_info": {
   "codemirror_mode": {
    "name": "ipython",
    "version": 3
   },
   "file_extension": ".py",
   "mimetype": "text/x-python",
   "name": "python",
   "nbconvert_exporter": "python",
   "pygments_lexer": "ipython3",
   "version": "3.12.4"
  }
 },
 "nbformat": 4,
 "nbformat_minor": 2
}
